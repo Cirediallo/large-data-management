{
  "nbformat": 4,
  "nbformat_minor": 0,
  "metadata": {
    "colab": {
      "provenance": [],
      "collapsed_sections": [],
      "authorship_tag": "ABX9TyNNRhj7Ob3XbHwyB6jFcbqB",
      "include_colab_link": true
    },
    "kernelspec": {
      "name": "python3",
      "display_name": "Python 3"
    },
    "language_info": {
      "name": "python"
    }
  },
  "cells": [
    {
      "cell_type": "markdown",
      "metadata": {
        "id": "view-in-github",
        "colab_type": "text"
      },
      "source": [
        "<a href=\"https://colab.research.google.com/github/momo54/large_scale_data_management/blob/main/VoiD_with_PySpark_RDD.ipynb\" target=\"_parent\"><img src=\"https://colab.research.google.com/assets/colab-badge.svg\" alt=\"Open In Colab\"/></a>"
      ]
    },
    {
      "cell_type": "markdown",
      "source": [
        "\n",
        "\n",
        "# Installing SPARK for Playing\n"
      ],
      "metadata": {
        "id": "rA7z32t7e1-U"
      }
    },
    {
      "cell_type": "code",
      "source": [
        "!pip install pyspark"
      ],
      "metadata": {
        "colab": {
          "base_uri": "https://localhost:8080/"
        },
        "id": "O-trb2SQbXlG",
        "outputId": "87a695b2-3822-492f-f1f4-c48c1ea76599"
      },
      "execution_count": 2,
      "outputs": [
        {
          "output_type": "stream",
          "name": "stdout",
          "text": [
            "Looking in indexes: https://pypi.org/simple, https://us-python.pkg.dev/colab-wheels/public/simple/\n",
            "Collecting pyspark\n",
            "  Downloading pyspark-3.3.0.tar.gz (281.3 MB)\n",
            "\u001b[K     |████████████████████████████████| 281.3 MB 43 kB/s \n",
            "\u001b[?25hCollecting py4j==0.10.9.5\n",
            "  Downloading py4j-0.10.9.5-py2.py3-none-any.whl (199 kB)\n",
            "\u001b[K     |████████████████████████████████| 199 kB 48.9 MB/s \n",
            "\u001b[?25hBuilding wheels for collected packages: pyspark\n",
            "  Building wheel for pyspark (setup.py) ... \u001b[?25l\u001b[?25hdone\n",
            "  Created wheel for pyspark: filename=pyspark-3.3.0-py2.py3-none-any.whl size=281764026 sha256=f0aa46409776f50032940f12da16f98b021b9109f6b5cab9a9459db5d8cad9b4\n",
            "  Stored in directory: /root/.cache/pip/wheels/7a/8e/1b/f73a52650d2e5f337708d9f6a1750d451a7349a867f928b885\n",
            "Successfully built pyspark\n",
            "Installing collected packages: py4j, pyspark\n",
            "Successfully installed py4j-0.10.9.5 pyspark-3.3.0\n"
          ]
        }
      ]
    },
    {
      "cell_type": "code",
      "source": [
        "!pip install -q findspark\n",
        "import findspark\n",
        "findspark.init()\n"
      ],
      "metadata": {
        "id": "hXxKUhrWbqeo"
      },
      "execution_count": 3,
      "outputs": []
    },
    {
      "cell_type": "markdown",
      "source": [
        "# SPARK Installed... Start playing"
      ],
      "metadata": {
        "id": "0cUONB2qekaq"
      }
    },
    {
      "cell_type": "code",
      "source": [
        "from pyspark.sql import SparkSession\n",
        "spark = SparkSession.builder\\\n",
        "        .master(\"local\")\\\n",
        "        .appName(\"Colab\")\\\n",
        "        .config('spark.ui.port', '4050')\\\n",
        "        .getOrCreate()"
      ],
      "metadata": {
        "id": "nIOiyuKYbwpD"
      },
      "execution_count": 4,
      "outputs": []
    },
    {
      "cell_type": "code",
      "source": [
        "!wget -q https://storage.googleapis.com/public_lddm_data/small_page_links.nt\n",
        "!ls\n",
        "!wget -q \"https://data.dws.informatik.uni-mannheim.de/structureddata/2021-12/quads/classspecific/schema_Mountain/part_0.gz\"\n",
        "!ls"
      ],
      "metadata": {
        "colab": {
          "base_uri": "https://localhost:8080/"
        },
        "id": "l3hT1MN1cLUX",
        "outputId": "dc39d991-2c02-48b6-b7cb-6d2c19ed43a0"
      },
      "execution_count": 23,
      "outputs": [
        {
          "output_type": "stream",
          "name": "stdout",
          "text": [
            "part_0.gz    small_page_links.nt    small_page_links.nt.2\n",
            "sample_data  small_page_links.nt.1\n",
            "part_0.gz    sample_data\t  small_page_links.nt.1\n",
            "part_0.gz.1  small_page_links.nt  small_page_links.nt.2\n"
          ]
        }
      ]
    },
    {
      "cell_type": "code",
      "source": [
        "lines = spark.read.text(\"part_0.gz\").rdd.map(lambda r: r[0])\n",
        "\n"
      ],
      "metadata": {
        "id": "ipEyiQNgddZt"
      },
      "execution_count": 24,
      "outputs": []
    },
    {
      "cell_type": "code",
      "source": [
        "lines.take(5)"
      ],
      "metadata": {
        "colab": {
          "base_uri": "https://localhost:8080/"
        },
        "id": "t2m1GJP-djds",
        "outputId": "5e76fe72-a654-4f8c-bd6d-b781bb772725"
      },
      "execution_count": 25,
      "outputs": [
        {
          "output_type": "execute_result",
          "data": {
            "text/plain": [
              "['_:nb53a24408607424384c1357880ce1bc7xb0 <http://www.w3.org/1999/02/22-rdf-syntax-ns#type> <http://schema.org/Mountain> <https://peakery.com/dragontail-peak-washington/>   .',\n",
              " '_:nb53a24408607424384c1357880ce1bc7xb0 <http://schema.org/additionalProperty> _:nb53a24408607424384c1357880ce1bc7xb1 <https://peakery.com/dragontail-peak-washington/>   .',\n",
              " '_:nb53a24408607424384c1357880ce1bc7xb0 <http://schema.org/additionalProperty> _:nb53a24408607424384c1357880ce1bc7xb2 <https://peakery.com/dragontail-peak-washington/>   .',\n",
              " '_:nb53a24408607424384c1357880ce1bc7xb0 <http://schema.org/additionalProperty> _:nb53a24408607424384c1357880ce1bc7xb3 <https://peakery.com/dragontail-peak-washington/>   .',\n",
              " '_:nb53a24408607424384c1357880ce1bc7xb0 <http://schema.org/additionalProperty> _:nb53a24408607424384c1357880ce1bc7xb4 <https://peakery.com/dragontail-peak-washington/>   .']"
            ]
          },
          "metadata": {},
          "execution_count": 25
        }
      ]
    },
    {
      "cell_type": "code",
      "source": [
        "lines.count()"
      ],
      "metadata": {
        "colab": {
          "base_uri": "https://localhost:8080/"
        },
        "id": "98abFy-tdpV9",
        "outputId": "139c7b2a-2b31-41f0-cafb-389025962aee"
      },
      "execution_count": 26,
      "outputs": [
        {
          "output_type": "execute_result",
          "data": {
            "text/plain": [
              "2113514"
            ]
          },
          "metadata": {},
          "execution_count": 26
        }
      ]
    },
    {
      "cell_type": "code",
      "source": [
        "import re\n",
        "def parseTriple(line) :\n",
        "    \"\"\"Parses a urls pair string into urls pair.\"\"\"\n",
        "    parts = re.split(r'\\s+', line)\n",
        "    return parts[0], parts[1], parts[2],parts[3]\n",
        "triples=lines.map(lambda x:parseTriple(x))\n",
        "triples.count()\n",
        "triples.take(1)"
      ],
      "metadata": {
        "colab": {
          "base_uri": "https://localhost:8080/"
        },
        "id": "OL8aSA_GjSQJ",
        "outputId": "87fa9d6d-8b35-438a-b292-423a6f61343f"
      },
      "execution_count": 27,
      "outputs": [
        {
          "output_type": "execute_result",
          "data": {
            "text/plain": [
              "[('_:nb53a24408607424384c1357880ce1bc7xb0',\n",
              "  '<http://www.w3.org/1999/02/22-rdf-syntax-ns#type>',\n",
              "  '<http://schema.org/Mountain>',\n",
              "  '<https://peakery.com/dragontail-peak-washington/>')]"
            ]
          },
          "metadata": {},
          "execution_count": 27
        }
      ]
    },
    {
      "cell_type": "markdown",
      "source": [
        "# Exercice: Computing the VoiD for the Nt File with PySpark RDD\n",
        "\n",
        "Write RDD PySpark for the following queries (your can ignore the construct statement, just compute the select part...)\n",
        "\n",
        "- QB1 CONSTRUCT { <D> v:triples ?x }\n",
        "WHERE { SELECT (COUNT(*) AS ?x) WHERE { ?s ?p ?o } }\n",
        "\n",
        "- QB2 CONSTRUCT { <D> v:classes ?x }\n",
        "WHERE { SELECT (COUNT(DISTINCT ?o) AS ?x) WHERE { ?s a ?o } }\n",
        "\n",
        "- QB3 CONSTRUCT { <D> v:properties ?x }\n",
        "WHERE { SELECT (COUNT(DISTINCT ?p) AS ?x) WHERE { ?s ?p ?o } }\n",
        "\n",
        "- QB4 CONSTRUCT { <D> v:distinctSubjects ?x }\n",
        "WHERE { SELECT (COUNT(DISTINCT ?s) AS ?x) WHERE { ?s ?p ?o } }\n",
        "\n",
        "- QB5 CONSTRUCT { <D> v:distinctObjects ?x }\n",
        "WHERE { SELECT (COUNT(DISTINCT ?o) AS ?x) WHERE { ?s ?p ?o } }"
      ],
      "metadata": {
        "id": "jdXPbI9LfGYT"
      }
    },
    {
      "cell_type": "code",
      "source": [
        "print(triples.map(lambda x: x[0]).distinct().count())\n",
        "print(triples.map(lambda x: x[1]).distinct().count())\n",
        "print(triples.map(lambda x: x[2]).distinct().count())\n",
        "print(triples.filter(lambda x: x[1]==\"<http://www.w3.org/1999/02/22-rdf-syntax-ns#type>\").map(lambda x: x[2]).distinct().count())\n"
      ],
      "metadata": {
        "id": "i7Zn5QkkhWhV",
        "outputId": "0abf66ca-e0a6-4be2-b03a-3429e288664f",
        "colab": {
          "base_uri": "https://localhost:8080/"
        }
      },
      "execution_count": 28,
      "outputs": [
        {
          "output_type": "stream",
          "name": "stdout",
          "text": [
            "487829\n",
            "253\n",
            "829323\n",
            "304\n"
          ]
        }
      ]
    },
    {
      "cell_type": "markdown",
      "source": [
        "- QC1 CONSTRUCT { <D> v:classPartition [ v:class ?c ] } WHERE { ?s a ?c }\n",
        "\n",
        "- QC2 CONSTRUCT { <D> v:classPartition [ v:class ?c ; v:triples ?x ] }\n",
        "WHERE { SELECT (COUNT(?p) AS ?x) ?c WHERE { ?s a ?c ; ?p ?o } GROUP BY ?c }\n",
        "- QC3 CONSTRUCT { <D> v:classPartition [ v:class ?c ; v:classes ?x ] }\n",
        "WHERE { SELECT (COUNT(DISTINCT ?d) AS ?x) ?c WHERE { ?s a ?c , ?d } GROUP BY ?c }\n",
        "- QC4 CONSTRUCT { <D> v:classPartition [ v:class ?c ; v:properties ?x ] }\n",
        "WHERE { SELECT (COUNT(DISTINCT ?p) AS ?x) ?c WHERE { ?s a ?c ; ?p ?o } GROUP BY ?c } \n",
        "- QC5 CONSTRUCT { <D> v:classPartition [ v:class ?c ; v:distinctSubjects ?x ] }\n",
        "WHERE { SELECT (COUNT(DISTINCT ?s) AS ?x) ?c WHERE { ?s a ?c } GROUP BY ?c }\n",
        "- QC6 CONSTRUCT { <D> v:classPartition [ v:class ?c ; v:distinctObjects ?x ] }\n",
        "WHERE { SELECT (COUNT(DISTINCT ?o) AS ?x) ?c WHERE { ?s a ?c ; ?p ?o } GROUP BY ?c }"
      ],
      "metadata": {
        "id": "S1Ap0MclgvfK"
      }
    },
    {
      "cell_type": "code",
      "source": [
        "#QC2\n",
        "toto=triples.filter(lambda x: x[1]==\"<http://www.w3.org/1999/02/22-rdf-syntax-ns#type>\")\n",
        "joined=toto.join(triples)\n",
        "joined.take(5)"
      ],
      "metadata": {
        "id": "God-8HdrhYUa",
        "outputId": "65526f11-d4f4-4a13-984f-148031dd3a87",
        "colab": {
          "base_uri": "https://localhost:8080/"
        }
      },
      "execution_count": 31,
      "outputs": [
        {
          "output_type": "execute_result",
          "data": {
            "text/plain": [
              "[('_:nb53a24408607424384c1357880ce1bc7xb2',\n",
              "  ('<http://www.w3.org/1999/02/22-rdf-syntax-ns#type>',\n",
              "   '<http://www.w3.org/1999/02/22-rdf-syntax-ns#type>')),\n",
              " ('_:nb53a24408607424384c1357880ce1bc7xb2',\n",
              "  ('<http://www.w3.org/1999/02/22-rdf-syntax-ns#type>',\n",
              "   '<http://schema.org/name>')),\n",
              " ('_:nb53a24408607424384c1357880ce1bc7xb2',\n",
              "  ('<http://www.w3.org/1999/02/22-rdf-syntax-ns#type>',\n",
              "   '<http://schema.org/value>')),\n",
              " ('_:nb53a24408607424384c1357880ce1bc7xb3',\n",
              "  ('<http://www.w3.org/1999/02/22-rdf-syntax-ns#type>',\n",
              "   '<http://www.w3.org/1999/02/22-rdf-syntax-ns#type>')),\n",
              " ('_:nb53a24408607424384c1357880ce1bc7xb3',\n",
              "  ('<http://www.w3.org/1999/02/22-rdf-syntax-ns#type>',\n",
              "   '<http://schema.org/name>'))]"
            ]
          },
          "metadata": {},
          "execution_count": 31
        }
      ]
    },
    {
      "cell_type": "markdown",
      "source": [
        "- QD1 CONSTRUCT { <D> v:propertyPartition [ v:property ?p ] } WHERE { ?s ?p ?o }\n",
        "- QD2 CONSTRUCT { <D> v:propertyPartition [ v:property ?p ; v:triples ?x ] }\n",
        "WHERE { SELECT (COUNT(?o) AS ?x) ?p WHERE { ?s ?p ?o } GROUP BY ?p }\n",
        "- QD3 CONSTRUCT { <D> v:propertyPartition [ v:property ?p ; v:distinctSubjects ?x ] }\n",
        "WHERE { SELECT (COUNT(DISTINCT ?s) AS ?x) ?p WHERE { ?s ?p ?o } GROUP BY ?p }\n",
        "- QD4 CONSTRUCT { <D> v:propertyPartition [ v:property ?p ; v:distinctObjects ?x ] }\n",
        "WHERE { SELECT (COUNT(DISTINCT ?o) AS ?x) ?p WHERE { ?s ?p ?o } GROUP BY ?p }"
      ],
      "metadata": {
        "id": "97ZjTj6Fg-zD"
      }
    },
    {
      "cell_type": "code",
      "source": [
        "Your code ??"
      ],
      "metadata": {
        "id": "89F_wX_1haKB"
      },
      "execution_count": null,
      "outputs": []
    },
    {
      "cell_type": "markdown",
      "source": [
        "- QE1 CONSTRUCT { <D> v:classPartition [ v:class ?c ; v:propertyPartition [ v:property ?p ] ] }\n",
        "WHERE { ?s a ?c ; ?p ?o }\n",
        "- QE2 CONSTRUCT { <D> v:classPartition [ v:class ?c\n",
        "v:propertyPartition [ v:property ?p ; v:triples ?x ] ] }\n",
        "WHERE { SELECT (COUNT(?o) AS ?x) ?p WHERE { ?s a ?c ; ?p ?o } GROUP BY ?c ?p }\n",
        "- QE3 CONSTRUCT { <D> v:classPartition [ v:class ?c ;\n",
        "v:propertyPartition [ v:distinctSubjects ?x ] ] }\n",
        "WHERE { SELECT (COUNT(DISTINCT ?s) AS ?x) ?c ?p WHERE { ?s a ?c ; ?p ?o } GROUP BY ?c ?p }\n",
        "- QE4 CONSTRUCT { <D> v:classPartition [ v:class ?c ;\n",
        "v:propertyPartition [ v:distinctObjects ?x ; v:property ?p ] ] }\n",
        "WHERE { SELECT (COUNT(DISTINCT ?o) AS ?x) ?c ?p WHERE { ?s a ?c ; ?p ?o } GROUP BY ?c ?p }"
      ],
      "metadata": {
        "id": "mxe3xkJfhNxR"
      }
    },
    {
      "cell_type": "code",
      "source": [
        "Your code"
      ],
      "metadata": {
        "id": "qv8Qjo00hbrv"
      },
      "execution_count": null,
      "outputs": []
    },
    {
      "cell_type": "markdown",
      "source": [
        "# Same Exercice with PySpark SQL\n",
        "\n"
      ],
      "metadata": {
        "id": "Li1TEohMhx6T"
      }
    },
    {
      "cell_type": "code",
      "source": [
        "from pyspark.sql import Row\n",
        "spo=triples.map(lambda x: Row(subject=x[0],predicate=x[1],object=x[2]))\n",
        "df=spark.createDataFrame(spo)\n",
        "df.createOrReplaceTempView(\"SPO\")\n",
        "df.show()\n",
        "\n"
      ],
      "metadata": {
        "colab": {
          "base_uri": "https://localhost:8080/"
        },
        "id": "aFnWNjqBh5k2",
        "outputId": "2105b986-c29c-4dce-9bc3-f2066472a624"
      },
      "execution_count": null,
      "outputs": [
        {
          "output_type": "stream",
          "name": "stdout",
          "text": [
            "+--------------------+--------------------+--------------------+\n",
            "|             subject|           predicate|              object|\n",
            "+--------------------+--------------------+--------------------+\n",
            "|<http://dbpedia.o...|<http://dbpedia.o...|<http://dbpedia.o...|\n",
            "|<http://dbpedia.o...|<http://dbpedia.o...|<http://dbpedia.o...|\n",
            "|<http://dbpedia.o...|<http://dbpedia.o...|<http://dbpedia.o...|\n",
            "|<http://dbpedia.o...|<http://dbpedia.o...|<http://dbpedia.o...|\n",
            "|<http://dbpedia.o...|<http://dbpedia.o...|<http://dbpedia.o...|\n",
            "|<http://dbpedia.o...|<http://dbpedia.o...|<http://dbpedia.o...|\n",
            "|<http://dbpedia.o...|<http://dbpedia.o...|<http://dbpedia.o...|\n",
            "|<http://dbpedia.o...|<http://dbpedia.o...|<http://dbpedia.o...|\n",
            "|<http://dbpedia.o...|<http://dbpedia.o...|<http://dbpedia.o...|\n",
            "|<http://dbpedia.o...|<http://dbpedia.o...|<http://dbpedia.o...|\n",
            "|<http://dbpedia.o...|<http://dbpedia.o...|<http://dbpedia.o...|\n",
            "|<http://dbpedia.o...|<http://dbpedia.o...|<http://dbpedia.o...|\n",
            "|<http://dbpedia.o...|<http://dbpedia.o...|<http://dbpedia.o...|\n",
            "|<http://dbpedia.o...|<http://dbpedia.o...|<http://dbpedia.o...|\n",
            "|<http://dbpedia.o...|<http://dbpedia.o...|<http://dbpedia.o...|\n",
            "|<http://dbpedia.o...|<http://dbpedia.o...|<http://dbpedia.o...|\n",
            "|<http://dbpedia.o...|<http://dbpedia.o...|<http://dbpedia.o...|\n",
            "|<http://dbpedia.o...|<http://dbpedia.o...|<http://dbpedia.o...|\n",
            "|<http://dbpedia.o...|<http://dbpedia.o...|<http://dbpedia.o...|\n",
            "|<http://dbpedia.o...|<http://dbpedia.o...|<http://dbpedia.o...|\n",
            "+--------------------+--------------------+--------------------+\n",
            "only showing top 20 rows\n",
            "\n"
          ]
        }
      ]
    },
    {
      "cell_type": "code",
      "source": [
        "\n",
        "result=spark.sql(\"select subject from SPO\")\n",
        "result.show()"
      ],
      "metadata": {
        "colab": {
          "base_uri": "https://localhost:8080/"
        },
        "id": "yLIpbyfykQ-Q",
        "outputId": "cccecf83-f4b3-4438-a6e7-35dab5b91919"
      },
      "execution_count": null,
      "outputs": [
        {
          "output_type": "stream",
          "name": "stdout",
          "text": [
            "+--------------------+\n",
            "|             subject|\n",
            "+--------------------+\n",
            "|<http://dbpedia.o...|\n",
            "|<http://dbpedia.o...|\n",
            "|<http://dbpedia.o...|\n",
            "|<http://dbpedia.o...|\n",
            "|<http://dbpedia.o...|\n",
            "|<http://dbpedia.o...|\n",
            "|<http://dbpedia.o...|\n",
            "|<http://dbpedia.o...|\n",
            "|<http://dbpedia.o...|\n",
            "|<http://dbpedia.o...|\n",
            "|<http://dbpedia.o...|\n",
            "|<http://dbpedia.o...|\n",
            "|<http://dbpedia.o...|\n",
            "|<http://dbpedia.o...|\n",
            "|<http://dbpedia.o...|\n",
            "|<http://dbpedia.o...|\n",
            "|<http://dbpedia.o...|\n",
            "|<http://dbpedia.o...|\n",
            "|<http://dbpedia.o...|\n",
            "|<http://dbpedia.o...|\n",
            "+--------------------+\n",
            "only showing top 20 rows\n",
            "\n"
          ]
        }
      ]
    },
    {
      "cell_type": "markdown",
      "source": [
        "Write SQL PySpark for the following queries (your can ignore the construct statement, just compute the select part...)\n",
        "\n",
        "QB1 CONSTRUCT { v:triples ?x } WHERE { SELECT (COUNT(*) AS ?x) WHERE { ?s ?p ?o } }\n",
        "\n",
        "QB2 CONSTRUCT { v:classes ?x } WHERE { SELECT (COUNT(DISTINCT ?o) AS ?x) WHERE { ?s a ?o } }\n",
        "\n",
        "QB3 CONSTRUCT { v:properties ?x } WHERE { SELECT (COUNT(DISTINCT ?p) AS ?x) WHERE { ?s ?p ?o } }\n",
        "\n",
        "QB4 CONSTRUCT { v:distinctSubjects ?x } WHERE { SELECT (COUNT(DISTINCT ?s) AS ?x) WHERE { ?s ?p ?o } }\n",
        "\n",
        "QB5 CONSTRUCT { v:distinctObjects ?x } WHERE { SELECT (COUNT(DISTINCT ?o) AS ?x) WHERE { ?s ?p ?o } }"
      ],
      "metadata": {
        "id": "pjK-ux6WnBum"
      }
    },
    {
      "cell_type": "code",
      "source": [
        "Your Code"
      ],
      "metadata": {
        "id": "nXTYMJYCiIuK"
      },
      "execution_count": null,
      "outputs": []
    }
  ]
}